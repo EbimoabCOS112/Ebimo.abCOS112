{
 "cells": [
  {
   "cell_type": "code",
   "execution_count": 1,
   "id": "99bca95f-a4e1-40ee-8d19-5b6ec37e1231",
   "metadata": {},
   "outputs": [
    {
     "ename": "FileNotFoundError",
     "evalue": "[Errno 2] No such file or directory: 'GIG-logistics.csv'",
     "output_type": "error",
     "traceback": [
      "\u001b[1;31m---------------------------------------------------------------------------\u001b[0m",
      "\u001b[1;31mFileNotFoundError\u001b[0m                         Traceback (most recent call last)",
      "Cell \u001b[1;32mIn[1], line 15\u001b[0m\n\u001b[0;32m     12\u001b[0m     \u001b[38;5;28;01mreturn\u001b[39;00m employees\n\u001b[0;32m     14\u001b[0m \u001b[38;5;66;03m# Load employee data\u001b[39;00m\n\u001b[1;32m---> 15\u001b[0m employee_data \u001b[38;5;241m=\u001b[39m load_employee_data()\n\u001b[0;32m     17\u001b[0m \u001b[38;5;66;03m# Set up the GUI window\u001b[39;00m\n\u001b[0;32m     18\u001b[0m root \u001b[38;5;241m=\u001b[39m tk\u001b[38;5;241m.\u001b[39mTk()\n",
      "Cell \u001b[1;32mIn[1], line 8\u001b[0m, in \u001b[0;36mload_employee_data\u001b[1;34m()\u001b[0m\n\u001b[0;32m      6\u001b[0m \u001b[38;5;28;01mdef\u001b[39;00m \u001b[38;5;21mload_employee_data\u001b[39m():\n\u001b[0;32m      7\u001b[0m     employees \u001b[38;5;241m=\u001b[39m []\n\u001b[1;32m----> 8\u001b[0m     \u001b[38;5;28;01mwith\u001b[39;00m \u001b[38;5;28mopen\u001b[39m(\u001b[38;5;124m'\u001b[39m\u001b[38;5;124mGIG-logistics.csv\u001b[39m\u001b[38;5;124m'\u001b[39m, newline\u001b[38;5;241m=\u001b[39m\u001b[38;5;124m'\u001b[39m\u001b[38;5;124m'\u001b[39m) \u001b[38;5;28;01mas\u001b[39;00m file:\n\u001b[0;32m      9\u001b[0m         reader \u001b[38;5;241m=\u001b[39m csv\u001b[38;5;241m.\u001b[39mDictReader(file)\n\u001b[0;32m     10\u001b[0m         \u001b[38;5;28;01mfor\u001b[39;00m row \u001b[38;5;129;01min\u001b[39;00m reader:\n",
      "File \u001b[1;32m~\\anaconda3\\Lib\\site-packages\\IPython\\core\\interactiveshell.py:324\u001b[0m, in \u001b[0;36m_modified_open\u001b[1;34m(file, *args, **kwargs)\u001b[0m\n\u001b[0;32m    317\u001b[0m \u001b[38;5;28;01mif\u001b[39;00m file \u001b[38;5;129;01min\u001b[39;00m {\u001b[38;5;241m0\u001b[39m, \u001b[38;5;241m1\u001b[39m, \u001b[38;5;241m2\u001b[39m}:\n\u001b[0;32m    318\u001b[0m     \u001b[38;5;28;01mraise\u001b[39;00m \u001b[38;5;167;01mValueError\u001b[39;00m(\n\u001b[0;32m    319\u001b[0m         \u001b[38;5;124mf\u001b[39m\u001b[38;5;124m\"\u001b[39m\u001b[38;5;124mIPython won\u001b[39m\u001b[38;5;124m'\u001b[39m\u001b[38;5;124mt let you open fd=\u001b[39m\u001b[38;5;132;01m{\u001b[39;00mfile\u001b[38;5;132;01m}\u001b[39;00m\u001b[38;5;124m by default \u001b[39m\u001b[38;5;124m\"\u001b[39m\n\u001b[0;32m    320\u001b[0m         \u001b[38;5;124m\"\u001b[39m\u001b[38;5;124mas it is likely to crash IPython. If you know what you are doing, \u001b[39m\u001b[38;5;124m\"\u001b[39m\n\u001b[0;32m    321\u001b[0m         \u001b[38;5;124m\"\u001b[39m\u001b[38;5;124myou can use builtins\u001b[39m\u001b[38;5;124m'\u001b[39m\u001b[38;5;124m open.\u001b[39m\u001b[38;5;124m\"\u001b[39m\n\u001b[0;32m    322\u001b[0m     )\n\u001b[1;32m--> 324\u001b[0m \u001b[38;5;28;01mreturn\u001b[39;00m io_open(file, \u001b[38;5;241m*\u001b[39margs, \u001b[38;5;241m*\u001b[39m\u001b[38;5;241m*\u001b[39mkwargs)\n",
      "\u001b[1;31mFileNotFoundError\u001b[0m: [Errno 2] No such file or directory: 'GIG-logistics.csv'"
     ]
    }
   ],
   "source": [
    "import tkinter as tk\n",
    "from tkinter import messagebox\n",
    "import csv\n",
    "\n",
    "# Function to load the employee data from the CSV file\n",
    "def load_employee_data():\n",
    "    employees = []\n",
    "    with open('GIG-logistics.csv', newline='') as file:\n",
    "        reader = csv.DictReader(file)\n",
    "        for row in reader:\n",
    "            employees.append(row)\n",
    "    return employees\n",
    "\n",
    "# Load employee data\n",
    "employee_data = load_employee_data()\n",
    "\n",
    "# Set up the GUI window\n",
    "root = tk.Tk()\n",
    "root.title(\"GIG Logistics - Employee Verification\")\n",
    "root.geometry(\"400x300\")\n",
    "\n",
    "# Input fields\n",
    "tk.Label(root, text=\"Enter Name:\").pack(pady=5)\n",
    "name_entry = tk.Entry(root)\n",
    "name_entry.pack(pady=5)\n",
    "\n",
    "tk.Label(root, text=\"Enter Department:\").pack(pady=5)\n",
    "dept_entry = tk.Entry(root)\n",
    "dept_entry.pack(pady=5)\n",
    "\n",
    "# Function to verify employee\n",
    "def verify_employee():\n",
    "    name = name_entry.get().strip()\n",
    "    department = dept_entry.get().strip()\n",
    "\n",
    "    # Check if the employee exists in the database\n",
    "    employee_found = None\n",
    "    department_members = []\n",
    "\n",
    "    for employee in employee_data:\n",
    "        if employee['Name'].lower() == name.lower() and employee['Department'].lower() == department.lower():\n",
    "            employee_found = employee\n",
    "        if employee['Department'].lower() == department.lower():\n",
    "            department_members.append(employee['Name'])\n",
    "\n",
    "    if employee_found:\n",
    "        messagebox.showinfo(\"Welcome!\", f\"Welcome, {name}!\\nHere are your team members:\")\n",
    "\n",
    "        # Show all department members\n",
    "        members_list = \"\\n\".join(department_members)\n",
    "        messagebox.showinfo(\"Department Members\", members_list)\n",
    "    else:\n",
    "        messagebox.showwarning(\"Not Found\", \"Sorry, you are not registered in the system.\")\n",
    "\n",
    "# Check button\n",
    "tk.Button(root, text=\"Check\", command=verify_employee).pack(pady=20)\n",
    "\n",
    "root.mainloop()"
   ]
  },
  {
   "cell_type": "code",
   "execution_count": null,
   "id": "209f20f7-a3d8-4059-a1f6-d0ca9ffbcf7c",
   "metadata": {},
   "outputs": [],
   "source": []
  }
 ],
 "metadata": {
  "kernelspec": {
   "display_name": "Python 3 (ipykernel)",
   "language": "python",
   "name": "python3"
  },
  "language_info": {
   "codemirror_mode": {
    "name": "ipython",
    "version": 3
   },
   "file_extension": ".py",
   "mimetype": "text/x-python",
   "name": "python",
   "nbconvert_exporter": "python",
   "pygments_lexer": "ipython3",
   "version": "3.12.7"
  }
 },
 "nbformat": 4,
 "nbformat_minor": 5
}
