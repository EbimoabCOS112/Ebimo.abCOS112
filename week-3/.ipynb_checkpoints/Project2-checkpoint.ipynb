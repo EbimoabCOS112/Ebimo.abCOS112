{
 "cells": [
  {
   "cell_type": "code",
   "execution_count": 1,
   "id": "fd1667f1-8dcf-47b3-abcd-49abc778ef11",
   "metadata": {},
   "outputs": [
    {
     "name": "stdin",
     "output_type": "stream",
     "text": [
      "Enter years of experience:  12\n",
      "Enter age:  23\n"
     ]
    },
    {
     "name": "stdout",
     "output_type": "stream",
     "text": [
      "The Annual Tax Revenue (ATR) is: N550,000\n"
     ]
    }
   ],
   "source": [
    "def calculate_atr(experience, age):\n",
    "    if experience > 25 and age >= 55:\n",
    "        return 5600000\n",
    "    elif experience > 20 and age >= 45:\n",
    "        return 4480000\n",
    "    elif experience > 10 and age >= 35:\n",
    "        return 1500000\n",
    "    else:\n",
    "        return 550000\n",
    "\n",
    "# Get user input\n",
    "experience = int(input(\"Enter years of experience: \"))\n",
    "age = int(input(\"Enter age: \"))\n",
    "\n",
    "# Calculate and display ATR\n",
    "atr = calculate_atr(experience, age)\n",
    "print(f\"The Annual Tax Revenue (ATR) is: N{atr:,}\")"
   ]
  },
  {
   "cell_type": "code",
   "execution_count": null,
   "id": "01f7cb2f-a9f1-4246-ab4d-8b06fa9dc47a",
   "metadata": {},
   "outputs": [],
   "source": []
  }
 ],
 "metadata": {
  "kernelspec": {
   "display_name": "Python 3 (ipykernel)",
   "language": "python",
   "name": "python3"
  },
  "language_info": {
   "codemirror_mode": {
    "name": "ipython",
    "version": 3
   },
   "file_extension": ".py",
   "mimetype": "text/x-python",
   "name": "python",
   "nbconvert_exporter": "python",
   "pygments_lexer": "ipython3",
   "version": "3.12.7"
  }
 },
 "nbformat": 4,
 "nbformat_minor": 5
}
