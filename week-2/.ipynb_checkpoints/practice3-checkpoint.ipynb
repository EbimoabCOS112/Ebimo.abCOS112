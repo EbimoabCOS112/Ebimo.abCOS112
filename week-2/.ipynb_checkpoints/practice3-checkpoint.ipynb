{
 "cells": [
  {
   "cell_type": "code",
   "execution_count": 1,
   "id": "130f04e4-3b52-4a76-a463-7c3a3ec4778e",
   "metadata": {},
   "outputs": [
    {
     "name": "stdout",
     "output_type": "stream",
     "text": [
      "['Anaconda', 786, 2.23, 'Jupyter', 70.2]\n",
      "Anaconda\n",
      "[786, 2.23]\n",
      "[2.23, 'Jupyter', 70.2]\n",
      "[321, 'Python', 321, 'Python']\n",
      "['Anaconda', 786, 2.23, 'Jupyter', 70.2, 321, 'Python']\n"
     ]
    }
   ],
   "source": [
    "list = ['Anaconda', 786, 2.23, 'Jupyter', 70.2]\n",
    "shortlist = [321, 'Python']\n",
    "\n",
    "\n",
    "print(list)     #Prints complete list\n",
    "print(list[0])   #Prints first element of the list\n",
    "print(list[1:3]) # Prints elemnts starting from 2nd till 3rd\n",
    "print(list[2:])   #Prints elemts starting from 3rd element \n",
    "print(shortlist * 2)  #Prints list two times\n",
    "print(list + shortlist) #Prints concatenated lists"
   ]
  },
  {
   "cell_type": "code",
   "execution_count": 2,
   "id": "42e07187-7153-4ae7-8ae9-e1111a463cc5",
   "metadata": {},
   "outputs": [
    {
     "name": "stdout",
     "output_type": "stream",
     "text": [
      "('Ekiti', 750, 'Oshogbo', 250, 'Akure', 500)\n",
      "500\n",
      "500\n",
      "(250, 'Akure', 500)\n",
      "('Abeokuta', 300, 'Ogbomoso', 'Abeokuta', 300, 'Ogbomoso', 'Abeokuta', 300, 'Ogbomoso')\n",
      "('Ekiti', 750, 'Oshogbo', 250, 'Akure', 500, 'Abeokuta', 300, 'Ogbomoso')\n"
     ]
    }
   ],
   "source": [
    "tuple = (\"Ekiti\", 750, 'Oshogbo', 250, \"Akure\", 500)\n",
    "s_tuple = (\"Abeokuta\", 300, \"Ogbomoso\")\n",
    "\n",
    "#Prints the complete tuple\n",
    "print(tuple)\n",
    "\n",
    "#Prints last element of the tuple\n",
    "print(tuple[-1])\n",
    "\n",
    "#Prints elements of the tuple starting from 2nd till 3rd\n",
    "print(tuple[-1])\n",
    "\n",
    "#Prints the elements of the tuple starting from 3rd element\n",
    "print(tuple[3:])\n",
    "\n",
    "#Prints the contents of the tuple twice\n",
    "print(s_tuple * 3)\n",
    "\n",
    "#Prints concatenated tuples\n",
    "print(tuple + s_tuple)"
   ]
  },
  {
   "cell_type": "code",
   "execution_count": 3,
   "id": "01e46427-4c4a-4538-a91b-6b24b3a54091",
   "metadata": {},
   "outputs": [
    {
     "name": "stdout",
     "output_type": "stream",
     "text": [
      "False\n",
      "False\n",
      "False\n",
      "False\n",
      "True\n"
     ]
    }
   ],
   "source": [
    "# Returns flase as game_1 is not equal to game_2\n",
    "game_1 = 2\n",
    "game_2 = 4\n",
    "print(bool(game_1 == game_2))\n",
    "# Or\n",
    "print(game_1 == game_2)\n",
    "\n",
    "#Returns False as val is None\n",
    "val = None\n",
    "print(bool(val))\n",
    "\n",
    "# Returns false as num is an empty sequence\n",
    "num = ()\n",
    "print(bool(num))\n",
    "\n",
    "#Returns true as age is boolean\n",
    "age = True\n",
    "print(bool(age))"
   ]
  },
  {
   "cell_type": "code",
   "execution_count": 4,
   "id": "0fdda4f7-d4b7-4e4a-b24d-228e784dcfd2",
   "metadata": {},
   "outputs": [
    {
     "name": "stdout",
     "output_type": "stream",
     "text": [
      "Grade = 70\n",
      "GPA = 4\n",
      "CGPA = 4\n"
     ]
    }
   ],
   "source": [
    "# Convert to int\n",
    "\n",
    "\n",
    "grade = int(70)       #grade will be 70\n",
    "gpa = int(4.9)        #gpa will be 4.9\n",
    "cgpa = int(\"4\")       #cgpa will be 4\n",
    "\n",
    "\n",
    "\n",
    "print(f\"Grade = {grade}\")\n",
    "print(f\"GPA = {gpa}\")\n",
    "print(f\"CGPA = {cgpa}\")"
   ]
  },
  {
   "cell_type": "code",
   "execution_count": 5,
   "id": "58da86a0-155b-4380-8cc2-d64610cf6adb",
   "metadata": {},
   "outputs": [
    {
     "name": "stdout",
     "output_type": "stream",
     "text": [
      "Grade = 70.0\n",
      "GPA = 4.9\n",
      "CGPA = 4.0\n"
     ]
    }
   ],
   "source": [
    "# Convert to float\n",
    "\n",
    "grade = float(70)       \n",
    "gpa = float(4.9)        \n",
    "cgpa = float(\"4\")       \n",
    "\n",
    "\n",
    "print(f\"Grade = {grade}\")\n",
    "print(f\"GPA = {gpa}\")\n",
    "print(f\"CGPA = {cgpa}\")"
   ]
  },
  {
   "cell_type": "code",
   "execution_count": null,
   "id": "aee3352c-fc03-481a-97a1-1e58b91f59eb",
   "metadata": {},
   "outputs": [],
   "source": []
  }
 ],
 "metadata": {
  "kernelspec": {
   "display_name": "Python 3 (ipykernel)",
   "language": "python",
   "name": "python3"
  },
  "language_info": {
   "codemirror_mode": {
    "name": "ipython",
    "version": 3
   },
   "file_extension": ".py",
   "mimetype": "text/x-python",
   "name": "python",
   "nbconvert_exporter": "python",
   "pygments_lexer": "ipython3",
   "version": "3.12.7"
  }
 },
 "nbformat": 4,
 "nbformat_minor": 5
}
