{
 "cells": [
  {
   "cell_type": "code",
   "execution_count": null,
   "id": "b794296a-7544-4d10-9963-0ec35f2f1f83",
   "metadata": {},
   "outputs": [],
   "source": [
    "str = input(\"Enter your state of Origin: \")\n",
    "\n",
    "print(\"Your state of origin is: \", str)\n",
    "print(\"The first character is: \", str[0])\n",
    "print(\"The characters starting from 3rd to 5th are: \", str[2:5])\n",
    "print(\"The string starting from 3rd Character is: \", str[2:])\n",
    "print(\"State of origin two times\", str * 2)\n"
   ]
  },
  {
   "cell_type": "code",
   "execution_count": null,
   "id": "da0553c6-ed60-493c-a29e-ccfe51aa8a7a",
   "metadata": {},
   "outputs": [],
   "source": []
  }
 ],
 "metadata": {
  "kernelspec": {
   "display_name": "Python 3 (ipykernel)",
   "language": "python",
   "name": "python3"
  },
  "language_info": {
   "codemirror_mode": {
    "name": "ipython",
    "version": 3
   },
   "file_extension": ".py",
   "mimetype": "text/x-python",
   "name": "python",
   "nbconvert_exporter": "python",
   "pygments_lexer": "ipython3",
   "version": "3.12.7"
  }
 },
 "nbformat": 4,
 "nbformat_minor": 5
}
